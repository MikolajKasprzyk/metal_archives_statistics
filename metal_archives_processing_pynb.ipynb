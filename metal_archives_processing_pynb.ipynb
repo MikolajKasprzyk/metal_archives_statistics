{
  "nbformat": 4,
  "nbformat_minor": 0,
  "metadata": {
    "colab": {
      "provenance": [],
      "mount_file_id": "1Cp63LK2Ma7bOyF296WV0PUi1u95gttpU",
      "authorship_tag": "ABX9TyOOtXIiRkjjPosBQc1N2+7a",
      "include_colab_link": true
    },
    "kernelspec": {
      "name": "python3",
      "display_name": "Python 3"
    },
    "language_info": {
      "name": "python"
    }
  },
  "cells": [
    {
      "cell_type": "markdown",
      "metadata": {
        "id": "view-in-github",
        "colab_type": "text"
      },
      "source": [
        "<a href=\"https://colab.research.google.com/github/MikolajKasprzyk/metal_archives_statistics/blob/main/metal_archives_processing_pynb.ipynb\" target=\"_parent\"><img src=\"https://colab.research.google.com/assets/colab-badge.svg\" alt=\"Open In Colab\"/></a>"
      ]
    },
    {
      "cell_type": "code",
      "execution_count": 23,
      "metadata": {
        "id": "U0zyIcdhh_mu"
      },
      "outputs": [],
      "source": [
        "import pandas as pd\n",
        "import pickle\n",
        "import string\n",
        "import time\n",
        "import numpy as np\n",
        "import re\n",
        "from datetime import datetime"
      ]
    },
    {
      "cell_type": "code",
      "source": [
        "path = '/content/drive/My Drive/Colab Notebooks/metal_archives/'\n",
        "\n",
        "path_out = ('/content/drive/My Drive/Colab Notebooks/metal_archives/'\n",
        "            'visualization_files/')\n",
        "\n",
        "bands_info_raw = pd.read_pickle(path + 'bands_info_df.pkl')"
      ],
      "metadata": {
        "id": "15t1MTnfwBaS"
      },
      "execution_count": 24,
      "outputs": []
    },
    {
      "cell_type": "markdown",
      "source": [
        "### Cleaning data"
      ],
      "metadata": {
        "id": "jwLtEYScE17Z"
      }
    },
    {
      "cell_type": "code",
      "source": [
        "# DISCOGRAPHY\n",
        "bands_info_clean = bands_info_raw.copy()\n",
        "\n",
        "def discog_cleaning(albums):\n",
        "    # check if discog value is nan\n",
        "    if not isinstance(albums, list):\n",
        "        return np.nan\n",
        "    # delete empty lists\n",
        "    else:    \n",
        "        albums = [album for album in albums if album]\n",
        "        # splitting last value (number of reviews and avg rating in %) into\n",
        "        # two ints loop doesnt change instances in place, so make a copy\n",
        "        # and override if there are no records in discography\n",
        "        # we get one string, chage it to np.nan\n",
        "        if len(albums[0]) > 1:\n",
        "            albums_ = []\n",
        "            for album in albums:\n",
        "                if album[-1]: # if there is rating\n",
        "                    rating = album[-1].split()[-1].strip('()').split('%')[0]\n",
        "                    revs_num = album[-1].split(' ')[0]\n",
        "                    album = album[:-1] + [int(rating)] + [int(revs_num)]\n",
        "                else: # if there are no reviews add 0 revies and nan rating\n",
        "                    album = album[:-1] + [0] + [np.nan]\n",
        "                albums_.append(album)\n",
        "            albums = albums_\n",
        "        else:\n",
        "            albums = np.nan\n",
        "        return albums\n",
        "\n",
        "bands_info_clean.loc[:, 'discog'] = bands_info_raw['discog']\\\n",
        "                                    .apply(lambda x: discog_cleaning(x))"
      ],
      "metadata": {
        "id": "kToghQN8RU1c"
      },
      "execution_count": 25,
      "outputs": []
    },
    {
      "cell_type": "code",
      "source": [
        "# GENRE\n",
        "# split string to list, dlete word metal, delete empty strings\n",
        "def genre_to_list(text):\n",
        "    if isinstance(text, str):  # Check if text is a string\n",
        "        # delete word 'Metal' unless it is 'Post-Metal'\n",
        "        text = text.replace('Post-Metal', 'Postmetal')\n",
        "        # do not want to split \n",
        "        pattern = r'Metal\\b|\\)|\\(|early|later|mid|,|;|with|elements|'\\\n",
        "                 'influences|(?<=\\w)-|-(?=\\w)'\n",
        "        text = re.sub(pattern, '', text)\n",
        "        text = text.replace('Crust Punk', 'Crust-Punk')\\\n",
        "            .replace('Hardcore Punk', 'HC-Punk')\\\n",
        "            .replace('Hard ', 'Hard-' ).replace('Melodic ', 'Melodic-')\\\n",
        "            .replace(\" 'n' \", \"-n-\")\\\n",
        "            .replace('Atmospheric ', 'Atmospheric-')\\\n",
        "            .replace('Post ', 'Post-')\\\n",
        "            .replace('Symphonic ', 'Symphonic-')\\\n",
        "            .replace('Progressive ', 'Progressive-')\\\n",
        "            .replace('Brutal ', 'Brutal-')\\\n",
        "            .replace('/', ' ')\n",
        "        text_list = text.split(' ')\n",
        "        # Delete empty strings\n",
        "        text_list = [text for text in text_list if text]\n",
        "        return text_list\n",
        "    else:\n",
        "        return []\n",
        "        \n",
        "bands_info_clean.loc[:,'genre'] = bands_info_raw['genre'].apply(\n",
        "                                  lambda x: genre_to_list(x))"
      ],
      "metadata": {
        "id": "lpByLeJsF74H"
      },
      "execution_count": 26,
      "outputs": []
    },
    {
      "cell_type": "code",
      "source": [
        "# LYRICAL THEMES\n",
        "# split string to list, delete empty strings\n",
        "def lyrical_themes_to_list(text):\n",
        "    if isinstance(text, str):  # Check if text is a string\n",
        "        text = text.replace('N/A', '')\n",
        "        text_list = text.split(',')\n",
        "        # Delete empty strings and whitespaces\n",
        "        text_list = [text for text in text_list if text]\n",
        "        return text_list\n",
        "    else:\n",
        "        return []\n",
        "        \n",
        "bands_info_clean.loc[:, 'lyrical_themes'] = bands_info_raw['lyrical_themes'].\\\n",
        "        apply(lambda x: lyrical_themes_to_list(x))"
      ],
      "metadata": {
        "id": "hTeRqoV7H6lF"
      },
      "execution_count": 27,
      "outputs": []
    },
    {
      "cell_type": "code",
      "source": [
        "# BANDS FORMATION AND SPLIT YEAR\n",
        "# Replace 'present' with the current year\n",
        "bands_info_clean['years_active'] = bands_info_clean['years_active'].str.replace(\n",
        "                                   'present', str(datetime.now().year))\n",
        "\n",
        "# Extract all years in the 'years_active' column\n",
        "years_active = bands_info_clean['years_active'].str.findall(r'\\b\\d{4}\\b')\n",
        "\n",
        "# Convert 'formed_in' column to pd.Timestamp, if 'N/A' then pd.NaT\n",
        "formed_in = bands_info_clean['formed_in'] = pd.to_datetime(\n",
        "        bands_info_clean['formed_in'], format='%Y', errors='coerce')\n",
        "# Create 'end_year' column by extracting the last year from 'years_active'\n",
        "end_year_mask = years_active.apply(lambda x: len(x) > 0)\n",
        "end_year = pd.to_datetime(years_active[end_year_mask].apply(lambda x: x[-1]), \n",
        "                          format='%Y', errors='coerce')\n",
        "bands_info_clean.loc[end_year_mask, 'end_year'] = end_year\n",
        "bands_info_clean.loc[~end_year_mask, 'end_year'] = pd.NaT\n",
        "\n",
        "# Drop the 'years_active' column if no longer needed\n",
        "bands_info_clean.drop('years_active', axis=1, inplace=True)"
      ],
      "metadata": {
        "id": "FukrfWi77rKb"
      },
      "execution_count": 28,
      "outputs": []
    },
    {
      "cell_type": "markdown",
      "source": [
        "### Preparing tables for visualisation"
      ],
      "metadata": {
        "id": "BTn1QpQGkcKQ"
      }
    },
    {
      "cell_type": "code",
      "source": [
        "#COUNTRY - countries information, population for counting \n",
        "# bands and records per capita\n",
        "country_raw = pd.read_csv(path + 'world_population.csv')\n",
        "\n",
        "country = country_raw[['Country/Territory', 'Continent',\n",
        "       '2020 Population','2010 Population', '2000 Population',\n",
        "       '1990 Population', '1980 Population', '1970 Population']].copy()\n",
        "\n",
        "country.columns = country.columns.str.replace(' Population', '_population')\n",
        "country = country.rename(columns={'Country/Territory':'name',\n",
        "        'Continent':'continent'}).rename_axis('id').add_prefix('country_')\n",
        "# start indexing at 1 so I can use 0 for NaN values when country info is missing\n",
        "country.index = country.index + 1\n",
        "\n",
        "country.to_csv(path_out + 'country.csv')"
      ],
      "metadata": {
        "id": "teZ1RJBzkVmq"
      },
      "execution_count": 29,
      "outputs": []
    },
    {
      "cell_type": "code",
      "source": [
        "# BANDS - main dataframe with bands information\n",
        "band = bands_info_clean.copy()\n",
        "# rename columns for consistency\n",
        "band = band.rename(columns={'status':'band_status',\n",
        "                            'formed_in':'band_start_year',\n",
        "                            'current_label':'band_label',\n",
        "                            'end_year':'band_stop_year'})\n",
        "# replacing country name with country_id - less redundant data\n",
        "band['country_id'] = band['country_of_origin'].map(\n",
        "                     country.reset_index().set_index('country_name')['id']\n",
        "                     ).fillna(0).astype(int)\n",
        "# drop other columns that will have separate dataframes connected by band_id\n",
        "band = band.drop(columns=['country_of_origin', 'artists', 'discog', 'genre',\n",
        "                          'lyrical_themes']).rename_axis('band_id')\n",
        "\n",
        "band.to_csv(path_out + 'band.csv')"
      ],
      "metadata": {
        "id": "-xrCWRzpknyJ"
      },
      "execution_count": 30,
      "outputs": []
    },
    {
      "cell_type": "code",
      "source": [
        "# RECORD - dataframe with all records information\n",
        "# delete bands with no discography information and explode by discog column\n",
        "records_df = bands_info_clean[\n",
        "            bands_info_clean['discog'].apply(lambda x: isinstance(x, list))]\\\n",
        "            .explode('discog')\n",
        "\n",
        "bands_info_clean = bands_info_clean[\n",
        "                   bands_info_clean['discog'].apply(lambda x: isinstance(x, list))]\n",
        "# create new columns from data of every record\n",
        "new_cols = {'record_title': records_df['discog'].apply(lambda x: x[0]),\n",
        "            'record_type': records_df['discog'].apply(lambda x: x[1]),\n",
        "            'record_year': records_df['discog'].apply(lambda x: x[2]),\n",
        "            'record_rating': records_df['discog'].apply(lambda x: x[3]),\n",
        "            'record_rating_count': records_df['discog'].apply(lambda x: x[4])}\n",
        "\n",
        "# replace coutry_of_origin column with country_id from country dataframe\n",
        "records_df['country_id'] = records_df['country_of_origin'].map(\n",
        "                     country.reset_index().set_index('country_name')['id']\n",
        "                     ).fillna(0).astype(int)\n",
        "# assign new columns and drop columns that are redundant\n",
        "records_df = records_df.assign(**new_cols).drop(columns=['discog',\n",
        "            'country_of_origin', 'band_url', 'artists', 'band_name', 'status',\n",
        "            'formed_in', 'genre', 'lyrical_themes', \n",
        "            'current_label', 'end_year'])\n",
        "records_df['record_rating_count'] = records_df['record_rating_count']\\\n",
        "                                    .fillna(0).astype(int)\n",
        "\n",
        "record = records_df.reset_index(drop=False).rename(columns={'index':'band_id'})\\\n",
        "        .rename_axis('record_id')\n",
        "\n",
        "record.to_csv(path_out + 'record.csv')"
      ],
      "metadata": {
        "id": "UITJWhcX2T6Y"
      },
      "execution_count": 31,
      "outputs": []
    },
    {
      "cell_type": "code",
      "source": [
        "# ACTIVE BANDS BY YEAR BY COUNTRY\n",
        "# Copy the relevant columns into a new DataFrame\n",
        "band_years_temp = bands_info_clean[['formed_in',\n",
        "                                    'end_year',\n",
        "                                    'country_of_origin']].copy()\n",
        "band_years_temp.reset_index(inplace=True)\n",
        "\n",
        "band_years_temp.rename(columns={'index':'band_id',\n",
        "                                'country_of_origin':'country_name'},\n",
        "                                inplace=True)\n",
        "# Fill missing values in 'end_year' and 'formed_in' columns + - one year, as \n",
        "# quite a lot have missing data. Dropping NaN values would be another approach.\n",
        "band_years_temp['end_year'].fillna(band_years_temp['formed_in'] \n",
        "                                + pd.offsets.DateOffset(years=1), inplace=True)\n",
        "band_years_temp['formed_in'].fillna(band_years_temp['end_year'] \n",
        "                                - pd.offsets.DateOffset(years=1), inplace=True)\n",
        "\n",
        "# Drop bands with missing all active years information\n",
        "band_years_temp.dropna(subset=['formed_in'], inplace=True)\n",
        "\n",
        "# Create an empty DataFrame to store the data\n",
        "band_active_years = pd.DataFrame(\n",
        "                    columns=['year', 'band_id', 'country_name']).copy()\n",
        "# pandas date range from first date in bands_years_temp to present\n",
        "years = pd.date_range(start=band_years_temp['formed_in'].min(),\n",
        "                      end=pd.Timestamp.now(), freq='Y')\n",
        "# Iterate over years and band_years_temp DataFrame\n",
        "for year in years:\n",
        "    mask = ((year >= band_years_temp['formed_in']) &\n",
        "           (year <= band_years_temp['end_year']))\n",
        "    active_bands = band_years_temp[mask].copy()\n",
        "    active_bands['year'] = year\n",
        "    band_active_years = pd.concat([band_active_years, active_bands[\n",
        "                        ['year', 'band_id', 'country_name']]], axis=0)\n",
        "\n",
        "band_active_years['year'] = band_active_years['year'].dt.strftime('%Y')\n",
        "band_active_years.set_index('year', inplace=True)\n",
        "# replace some names to be consistent with country dataframe\n",
        "country_replacements = {'Korea, South': 'South Korea', \n",
        "                        'Czechia': 'Czech Republic', 'Türkiye': 'Turkey'}\n",
        "band_active_years['country_name'] = band_active_years['country_name']\\\n",
        "                                    .replace(country_replacements)\n",
        "# add country_id and drop country name - less redundant data\n",
        "band_active_years['country_id'] = band_active_years['country_name'].map(\n",
        "                    country.reset_index().set_index('country_name')['id']\n",
        "                    ).fillna(0).astype(int)\n",
        "band_active_years.drop(columns='country_name', inplace=True)\n",
        "\n",
        "band_active_years.to_csv(path_out + 'band_active_years.csv')"
      ],
      "metadata": {
        "id": "S-pY8ICkrQrC"
      },
      "execution_count": 32,
      "outputs": []
    },
    {
      "cell_type": "code",
      "source": [
        "# GENRE\n",
        "genre_df = bands_info_clean.copy().drop(columns=['band_url', 'artists',\n",
        "            'discog', 'band_name', 'country_of_origin', 'status', 'formed_in', \n",
        "            'lyrical_themes', 'current_label', 'end_year'])\\\n",
        "            .rename(columns={'genre':'genre_name'})\n",
        "\n",
        "genre_df = genre_df.explode('genre_name').rename_axis('band_id').dropna()\n",
        "# create dataframe with unique genre_name and genre_id\n",
        "genre = pd.DataFrame({'genre_name': genre_df['genre_name'].unique()})\\\n",
        "        .rename_axis('genre_id')\n",
        "# ma genre_id and drop genre_name - less redundant data\n",
        "genre_df['genre_id'] = genre_df['genre_name'].map(genre.reset_index()\\\n",
        "                        .set_index('genre_name')['genre_id'])\n",
        "\n",
        "band_genre = genre_df.drop(columns='genre_name')\n",
        "\n",
        "genre.to_csv(path_out + 'genre.csv')"
      ],
      "metadata": {
        "id": "t7ns5w8xvLx_"
      },
      "execution_count": 33,
      "outputs": []
    },
    {
      "cell_type": "code",
      "source": [
        "# ARTISTS\n",
        "artist_df = bands_info_clean.copy().drop(columns=['band_url', 'genre',\n",
        "            'discog', 'band_name', 'country_of_origin', 'status', 'formed_in', \n",
        "            'lyrical_themes', 'current_label', 'end_year'])\\\n",
        "            .rename(columns={'artists':'artist_name'})\n",
        "artist_df = artist_df.explode('artist_name').rename_axis('band_id').dropna()\n",
        "\n",
        "artist = pd.DataFrame({'artist_name': artist_df['artist_name'].unique()})\\\n",
        "        .rename_axis('artist_id')\n",
        "\n",
        "artist_df['artist_id'] = artist_df['artist_name'].map(artist.reset_index()\\\n",
        "                        .set_index('artist_name')['artist_id'])\n",
        "\n",
        "band_artist = artist_df.drop(columns='artist_name')\n",
        "\n",
        "artist.to_csv(path_out + 'artist.csv')\n",
        "band_artist.to_csv(path_out + 'band_artist.csv')"
      ],
      "metadata": {
        "id": "1-aY9W5-vquJ"
      },
      "execution_count": 34,
      "outputs": []
    },
    {
      "cell_type": "code",
      "source": [
        "# LYRICS\n",
        "lyrics_df = bands_info_clean.copy().drop(columns=['band_url', 'genre',\n",
        "            'artists', 'discog', 'band_name', 'country_of_origin', 'status', \n",
        "            'formed_in', 'current_label', 'end_year'])\\\n",
        "            .rename(columns={'lyrical_themes':'lyrics_theme'})\n",
        "lyrics_df = lyrics_df.explode('lyrics_theme').rename_axis('band_id').dropna()\n",
        "\n",
        "lyrics = pd.DataFrame({'lyrics_theme': lyrics_df['lyrics_theme'].unique()})\\\n",
        "        .rename_axis('lyrics_id')\n",
        "\n",
        "lyrics_df['lyrics_id'] = lyrics_df['lyrics_theme'].map(lyrics.reset_index()\\\n",
        "                        .set_index('lyrics_theme')['lyrics_id'])\n",
        "\n",
        "band_lyrics = lyrics_df.drop(columns='lyrics_theme')\n",
        "\n",
        "lyrics.to_csv(path_out + 'lyrics.csv')\n",
        "band_lyrics.to_csv(path_out + 'band_lyrics.csv')"
      ],
      "metadata": {
        "id": "fYZTFa6ZxyFS"
      },
      "execution_count": 35,
      "outputs": []
    }
  ]
}